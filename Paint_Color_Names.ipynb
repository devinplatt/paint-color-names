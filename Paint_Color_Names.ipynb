{
 "cells": [
  {
   "cell_type": "code",
   "execution_count": 1,
   "metadata": {
    "collapsed": false,
    "deletable": true,
    "editable": true
   },
   "outputs": [
    {
     "name": "stderr",
     "output_type": "stream",
     "text": [
      "Using TensorFlow backend.\n"
     ]
    }
   ],
   "source": [
    "import os\n",
    "import numpy as np\n",
    "import random\n",
    "import keras\n",
    "from keras.utils import np_utils\n",
    "from keras.models import Sequential\n",
    "from keras.layers.core import Dense, Activation\n",
    "from keras.optimizers import Adam\n",
    "\n",
    "home_dir = os.getcwd()\n",
    "data_fname = os.path.join(home_dir, 'sherwin.txt')"
   ]
  },
  {
   "cell_type": "code",
   "execution_count": 2,
   "metadata": {
    "collapsed": false,
    "deletable": true,
    "editable": true
   },
   "outputs": [],
   "source": [
    "def process_line(line):\n",
    "    l = line.strip().split('\\t')\n",
    "    return (int(l[0]),\n",
    "            l[1],\n",
    "            int(l[2]),\n",
    "            int(l[3]),\n",
    "            int(l[4]))\n",
    "\n",
    "lines = [process_line(line) for line in open(data_fname)]"
   ]
  },
  {
   "cell_type": "code",
   "execution_count": 3,
   "metadata": {
    "collapsed": false,
    "deletable": true,
    "editable": true
   },
   "outputs": [
    {
     "data": {
      "text/plain": [
       "(1, 'Mulberry Silk', 149, 120, 108)"
      ]
     },
     "execution_count": 3,
     "metadata": {},
     "output_type": "execute_result"
    }
   ],
   "source": [
    "lines[0]"
   ]
  },
  {
   "cell_type": "code",
   "execution_count": 4,
   "metadata": {
    "collapsed": false,
    "deletable": true,
    "editable": true
   },
   "outputs": [
    {
     "data": {
      "text/plain": [
       "1665"
      ]
     },
     "execution_count": 4,
     "metadata": {},
     "output_type": "execute_result"
    }
   ],
   "source": [
    "all_words = set(word for line in lines for word in line[1].split(' '))\n",
    "all_words_list = sorted(list(all_words))\n",
    "len(all_words)"
   ]
  },
  {
   "cell_type": "code",
   "execution_count": 5,
   "metadata": {
    "collapsed": false,
    "deletable": true,
    "editable": true
   },
   "outputs": [
    {
     "name": "stdout",
     "output_type": "stream",
     "text": [
      "172.907431551\n",
      "59.8986478577\n",
      "160.17535854\n",
      "55.4759883723\n",
      "143.498044329\n",
      "58.9109192831\n"
     ]
    }
   ],
   "source": [
    "mean_r = np.mean([l[2] for l in lines])\n",
    "print(mean_r)\n",
    "std_r = np.std([l[2] for l in lines])\n",
    "print(std_r)\n",
    "\n",
    "mean_g = np.mean([l[3] for l in lines])\n",
    "print(mean_g)\n",
    "std_g = np.std([l[3] for l in lines])\n",
    "print(std_g)\n",
    "\n",
    "mean_b = np.mean([l[4] for l in lines])\n",
    "print(mean_b)\n",
    "std_b = np.std([l[4] for l in lines])\n",
    "print(std_b)"
   ]
  },
  {
   "cell_type": "code",
   "execution_count": 6,
   "metadata": {
    "collapsed": true,
    "deletable": true,
    "editable": true
   },
   "outputs": [],
   "source": [
    "def int_color_to_float_color(r, g, b):\n",
    "    r -= mean_r\n",
    "    r /= float(std_r)\n",
    "    g -= mean_g\n",
    "    g /= float(std_g)\n",
    "    b -= mean_b\n",
    "    b /= float(std_b)\n",
    "    return r, g, b\n",
    "\n",
    "\n",
    "def float_color_to_int_color(r, g, b):\n",
    "    r *= std_r\n",
    "    r += mean_r\n",
    "    g *= std_g\n",
    "    g += mean_g\n",
    "    b *= std_b\n",
    "    b += mean_b\n",
    "    return int(r), int(g), int(b) "
   ]
  },
  {
   "cell_type": "code",
   "execution_count": 7,
   "metadata": {
    "collapsed": false,
    "deletable": true,
    "editable": true
   },
   "outputs": [
    {
     "data": {
      "text/plain": [
       "2649"
      ]
     },
     "execution_count": 7,
     "metadata": {},
     "output_type": "execute_result"
    }
   ],
   "source": [
    "color_word_examples = []\n",
    "for l in lines:\n",
    "    color_triple = list(int_color_to_float_color(l[2], l[3], l[4]))\n",
    "    words = l[1].split(' ')\n",
    "    for word in words:\n",
    "        color_word_examples.append((color_triple, word))\n",
    "len(color_word_examples)"
   ]
  },
  {
   "cell_type": "code",
   "execution_count": 8,
   "metadata": {
    "collapsed": true,
    "deletable": true,
    "editable": true
   },
   "outputs": [],
   "source": [
    "word_to_index = {word: i  for i, word in enumerate(all_words_list)}\n",
    "color_word_index_examples = [(x[0], word_to_index[x[1]]) for x in color_word_examples]\n",
    "\n",
    "# This is just a demo, so we don't worry about train/valid/test split.\n",
    "X = [x[0] for x in color_word_index_examples]\n",
    "X = np.array(X)\n",
    "\n",
    "y = [x[1] for x in color_word_index_examples]\n",
    "y = np_utils.to_categorical(y)"
   ]
  },
  {
   "cell_type": "code",
   "execution_count": 9,
   "metadata": {
    "collapsed": false,
    "deletable": true,
    "editable": true
   },
   "outputs": [
    {
     "name": "stdout",
     "output_type": "stream",
     "text": [
      "____________________________________________________________________________________________________\n",
      "Layer (type)                     Output Shape          Param #     Connected to                     \n",
      "====================================================================================================\n",
      "dense_1 (Dense)                  (None, 100)           400         dense_input_1[0][0]              \n",
      "____________________________________________________________________________________________________\n",
      "activation_1 (Activation)        (None, 100)           0           dense_1[0][0]                    \n",
      "____________________________________________________________________________________________________\n",
      "dense_2 (Dense)                  (None, 1665)          168165      activation_1[0][0]               \n",
      "____________________________________________________________________________________________________\n",
      "activation_2 (Activation)        (None, 1665)          0           dense_2[0][0]                    \n",
      "====================================================================================================\n",
      "Total params: 168,565\n",
      "Trainable params: 168,565\n",
      "Non-trainable params: 0\n",
      "____________________________________________________________________________________________________\n"
     ]
    }
   ],
   "source": [
    "model = Sequential()\n",
    "model.add(Dense(output_dim=100, init=\"uniform\", input_shape=X[0].shape))\n",
    "model.add(Activation('sigmoid'))\n",
    "model.add(Dense(output_dim=len(y[0]), init=\"uniform\"))\n",
    "model.add(Activation(\"softmax\"))\n",
    "model.compile(loss='categorical_crossentropy', optimizer=Adam(), metrics=[\"accuracy\"])\n",
    "model.summary()"
   ]
  },
  {
   "cell_type": "code",
   "execution_count": 10,
   "metadata": {
    "collapsed": false,
    "deletable": true,
    "editable": true
   },
   "outputs": [
    {
     "name": "stdout",
     "output_type": "stream",
     "text": [
      "Epoch 1/1\n",
      "2649/2649 [==============================] - 0s - loss: 5.3211 - acc: 0.1370     \b\b\b\b\b\b\b\b\b\b\b\b\b\b\b\b\b\b\b\b\b\b\b\b\b\b\b\b\b\b\b\b\b\b\b\b\b\b\b\b\b\b\b\b\b\b\b\b\b\b\b\b\b\b\b\b\b\b\b\b\b\b\b\b\b\b\b\b\b\b\b\b\b\b\b\b\b\b\b\b\b\b\b\b\b\b\b\b\b\b\b\b\b\b\b\b\b\b\b\b\b\b\b\b\b\b\b\b\b\b\b\b\b\b\b\b\b\b\b\b\b\b\b\b\b\b\b\b\b\b\b\b\b\b\b\b\b\b\b\b\b\b\b\b\b\b\b\b\b\b\b\b\b\b\b\b\b\b\b\b\b\b\b\b\b\b\b\b\b\b\b\b\b\b\b\b\b\b\b\b\b\b\b\b\b\b\b\b\b\b\b\b\b\b\b\b\b\b\b\b\b\b\b\b\b\b\b\b\b\b\b\b\b\b\b\b\b\b\b\b\b\b\b\b\b\b\b\b\b\b\b\b\b\b\b\b\b\b\b\b\b\b\b\b\b\b\b\b\b\b\b\b\b\b\b\b\b\b\b\b\b\b\b\b\b\b\b\b\b\b\b\b\b\b\b\b\b\b\b\b\b\b\b\b\b\b\b\b\b\b\b\b\b\b\b\b\b\b\b\b\b\b\b\b\b\b\b\b\b\b\b\b\b\b\b\b\b\b\b\b\b\b\b\b\n"
     ]
    },
    {
     "data": {
      "text/plain": [
       "<keras.callbacks.History at 0x7fe14afe0a50>"
      ]
     },
     "execution_count": 10,
     "metadata": {},
     "output_type": "execute_result"
    }
   ],
   "source": [
    "model.fit(X, y, nb_epoch=50, batch_size=32, verbose=0)\n",
    "model.fit(X, y, nb_epoch=1, batch_size=32)"
   ]
  },
  {
   "cell_type": "code",
   "execution_count": 11,
   "metadata": {
    "collapsed": false,
    "deletable": true,
    "editable": true
   },
   "outputs": [
    {
     "data": {
      "image/jpeg": "[encoded data removed]",
      "text/plain": [
       "<IPython.core.display.Image object>"
      ]
     },
     "execution_count": 11,
     "metadata": {},
     "output_type": "execute_result"
    }
   ],
   "source": [
    "from random import randint\n",
    "r = randint(0,256)\n",
    "g = randint(0,256)\n",
    "b = randint(0,256)\n",
    "r_float, g_float, b_float = int_color_to_float_color(r, g, b)\n",
    "color = np.array([r_float, g_float, b_float])\n",
    "import numpy as np\n",
    "from scipy.misc import imread,imsave\n",
    "\n",
    "image_fname = os.path.join(home_dir, 'out.jpg')\n",
    "img = np.zeros([100,100,3],dtype=np.uint8)\n",
    "img[::].fill(r)\n",
    "for i in range(100):\n",
    "    for j in range(100):\n",
    "        img[i][j][0] = r\n",
    "        img[i][j][1] = g\n",
    "        img[i][j][2] = b\n",
    "\n",
    "imsave(image_fname,img)\n",
    "\n",
    "from IPython.display import Image\n",
    "Image(image_fname)"
   ]
  },
  {
   "cell_type": "code",
   "execution_count": 12,
   "metadata": {
    "collapsed": false,
    "deletable": true,
    "editable": true
   },
   "outputs": [
    {
     "name": "stdout",
     "output_type": "stream",
     "text": [
      "1/1 [==============================] - 0s\n",
      "Green Blue\n"
     ]
    }
   ],
   "source": [
    "proba = model.predict_proba(np.array([color]), batch_size=32)[0]\n",
    "indices = proba.argsort()[-5:][::-1]\n",
    "keywords = [all_words_list[x] for x in indices]\n",
    "random.shuffle(keywords)\n",
    "print(' '.join(keywords[:2]))"
   ]
  }
 ],
 "metadata": {
  "kernelspec": {
   "display_name": "Python 2",
   "language": "python",
   "name": "python2"
  },
  "language_info": {
   "codemirror_mode": {
    "name": "ipython",
    "version": 2
   },
   "file_extension": ".py",
   "mimetype": "text/x-python",
   "name": "python",
   "nbconvert_exporter": "python",
   "pygments_lexer": "ipython2",
   "version": "2.7.12"
  }
 },
 "nbformat": 4,
 "nbformat_minor": 2
}
